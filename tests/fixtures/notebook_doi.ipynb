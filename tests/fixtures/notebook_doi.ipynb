{
 "cells": [
  {
   "cell_type": "markdown",
   "metadata": {},
   "source": [
    "Original implementation of R2T2\n",
    "Diego Alonso-Álvarez, et al.\n",
    "(2018, February 27). Solcore (Version 5.1.0). Zenodo.\n",
    "http://doi.org/10.5281/zenodo.1185316"
   ]
  },
  {
   "cell_type": "code",
   "execution_count": 1,
   "metadata": {},
   "outputs": [],
   "source": [
    "%load_ext autoreload\n",
    "%autoreload 2\n",
    "from r2t2 import docstring_reference_parser\n",
    "from r2t2 import writers"
   ]
  },
  {
   "cell_type": "code",
   "execution_count": 2,
   "metadata": {},
   "outputs": [],
   "source": [
    "# some example code to get ignored\n",
    "files = docstring_reference_parser.expand_file_list('./notebook_doi.ipynb')\n",
    "docstring_reference_parser.parse_and_add_docstring_references_from_files(files)"
   ]
  },
  {
   "cell_type": "markdown",
   "metadata": {},
   "source": [
    "A second DOI, this one fake: doi:10.1234/zenodo.1234567"
   ]
  }
 ],
 "metadata": {
  "kernelspec": {
   "display_name": "Python [conda env:r2t2]",
   "language": "python",
   "name": "conda-env-r2t2-py"
  },
  "language_info": {
   "codemirror_mode": {
    "name": "ipython",
    "version": 3
   },
   "file_extension": ".py",
   "mimetype": "text/x-python",
   "name": "python",
   "nbconvert_exporter": "python",
   "pygments_lexer": "ipython3",
   "version": "3.7.0"
  }
 },
 "nbformat": 4,
 "nbformat_minor": 4
}
